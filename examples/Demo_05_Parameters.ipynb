{
 "cells": [
  {
   "cell_type": "markdown",
   "metadata": {},
   "source": [
    "# Demonstration of \"parameter\"-related class"
   ]
  },
  {
   "cell_type": "markdown",
   "metadata": {},
   "source": [
    "This notebook demonstrates the functionalities of \"parameter\"-related classes. The detailed documentation of these classes is [here](https://pyseismosoil.readthedocs.io/en/stable/api_docs/class_parameters.html).\n",
    "\n",
    "_This notebook takes about 10 minutes to read through._"
   ]
  },
  {
   "cell_type": "markdown",
   "metadata": {},
   "source": [
    "## 1. Import relevant libraries"
   ]
  },
  {
   "cell_type": "code",
   "execution_count": 1,
   "metadata": {},
   "outputs": [],
   "source": [
    "import numpy as np"
   ]
  },
  {
   "cell_type": "code",
   "execution_count": 2,
   "metadata": {},
   "outputs": [],
   "source": [
    "from PySeismoSoil.class_parameters import (\n",
    "    HH_Param,\n",
    "    MKZ_Param,\n",
    "    HH_Param_Multi_Layer,\n",
    "    MKZ_Param_Multi_Layer,\n",
    ")"
   ]
  },
  {
   "cell_type": "markdown",
   "metadata": {},
   "source": [
    "## 2. Demonstration of `HH_Param` objects"
   ]
  },
  {
   "cell_type": "markdown",
   "metadata": {},
   "source": [
    "### 2.1. Initialization"
   ]
  },
  {
   "cell_type": "code",
   "execution_count": 3,
   "metadata": {},
   "outputs": [],
   "source": [
    "hh_param = HH_Param(\n",
    "    dict(gamma_t=1, a=2, gamma_ref=3, beta=4, s=5, Gmax=6, mu=7, Tmax=8, d=9)\n",
    ")"
   ]
  },
  {
   "cell_type": "code",
   "execution_count": 4,
   "metadata": {},
   "outputs": [
    {
     "name": "stdout",
     "output_type": "stream",
     "text": [
      "{\n",
      "  gamma_t: 1,\n",
      "  a: 2,\n",
      "  gamma_ref: 3,\n",
      "  beta: 4,\n",
      "  s: 5,\n",
      "  Gmax: 6,\n",
      "  mu: 7,\n",
      "  Tmax: 8,\n",
      "  d: 9\n",
      "}\n"
     ]
    }
   ],
   "source": [
    "print(hh_param)"
   ]
  },
  {
   "cell_type": "markdown",
   "metadata": {},
   "source": [
    "`HH_Param` objects have `dict`-like behaviors. The only exception is that you cannot delete items (i.e., use `pop()` or `popitem()`)."
   ]
  },
  {
   "cell_type": "code",
   "execution_count": 5,
   "metadata": {},
   "outputs": [
    {
     "data": {
      "text/plain": [
       "4"
      ]
     },
     "execution_count": 5,
     "metadata": {},
     "output_type": "execute_result"
    }
   ],
   "source": [
    "hh_param['beta']"
   ]
  },
  {
   "cell_type": "code",
   "execution_count": 6,
   "metadata": {},
   "outputs": [
    {
     "data": {
      "text/plain": [
       "True"
      ]
     },
     "execution_count": 6,
     "metadata": {},
     "output_type": "execute_result"
    }
   ],
   "source": [
    "'Gmax' in hh_param"
   ]
  },
  {
   "cell_type": "code",
   "execution_count": 7,
   "metadata": {},
   "outputs": [
    {
     "data": {
      "text/plain": [
       "9"
      ]
     },
     "execution_count": 7,
     "metadata": {},
     "output_type": "execute_result"
    }
   ],
   "source": [
    "len(hh_param)"
   ]
  },
  {
   "cell_type": "code",
   "execution_count": 8,
   "metadata": {},
   "outputs": [
    {
     "data": {
      "text/plain": [
       "{'Gmax', 'Tmax', 'a', 'beta', 'd', 'gamma_ref', 'gamma_t', 'mu', 's'}"
      ]
     },
     "execution_count": 8,
     "metadata": {},
     "output_type": "execute_result"
    }
   ],
   "source": [
    "hh_param.allowable_keys"
   ]
  },
  {
   "cell_type": "code",
   "execution_count": 9,
   "metadata": {},
   "outputs": [
    {
     "name": "stdout",
     "output_type": "stream",
     "text": [
      "     gamma_t = 1.0\n",
      "           a = 2.0\n",
      "   gamma_ref = 3.0\n",
      "        beta = 4.0\n",
      "           s = 5.0\n",
      "        Gmax = 6.0\n",
      "          mu = 7.0\n",
      "        Tmax = 8.0\n",
      "           d = 9.0\n"
     ]
    }
   ],
   "source": [
    "for k, v in hh_param.items():\n",
    "    print('%12s = %.1f' % (k, v))"
   ]
  },
  {
   "cell_type": "markdown",
   "metadata": {},
   "source": [
    "### 2.2. Manipulating"
   ]
  },
  {
   "cell_type": "code",
   "execution_count": 10,
   "metadata": {},
   "outputs": [
    {
     "data": {
      "text/plain": [
       "array([1, 2, 3, 4, 5, 6, 7, 8, 9])"
      ]
     },
     "execution_count": 10,
     "metadata": {},
     "output_type": "execute_result"
    }
   ],
   "source": [
    "hh_param.serialize()  # the outputs are arrange a pre-defined order"
   ]
  },
  {
   "cell_type": "code",
   "execution_count": 11,
   "metadata": {},
   "outputs": [
    {
     "data": {
      "text/plain": [
       "array([1.        , 1.        , 1.        , 1.        , 1.        ,\n",
       "       1.        , 1.        , 1.        , 1.        , 1.        ,\n",
       "       1.        , 1.        , 1.        , 1.        , 1.        ,\n",
       "       1.        , 1.        , 1.        , 1.        , 1.        ,\n",
       "       1.        , 1.        , 1.        , 1.        , 1.        ,\n",
       "       1.        , 1.        , 1.        , 1.        , 1.        ,\n",
       "       0.99999999, 0.99999999, 0.99999999, 0.99999999, 0.99999998,\n",
       "       0.99999998, 0.99999997, 0.99999996, 0.99999995, 0.99999993,\n",
       "       0.99999991, 0.99999988, 0.99999984, 0.99999979, 0.99999971,\n",
       "       0.99999962, 0.99999949, 0.99999931, 0.99999905, 0.99999869])"
      ]
     },
     "execution_count": 11,
     "metadata": {},
     "output_type": "execute_result"
    }
   ],
   "source": [
    "hh_param.get_GGmax()"
   ]
  },
  {
   "cell_type": "code",
   "execution_count": 12,
   "metadata": {},
   "outputs": [
    {
     "data": {
      "text/plain": [
       "array([1.41357986e-14, 2.07089449e-11, 4.30576425e-11, 6.88554749e-11,\n",
       "       1.00194540e-10, 1.39506196e-10, 1.90027540e-10, 2.55716596e-10,\n",
       "       3.41888425e-10, 4.55413023e-10, 6.05365574e-10, 8.03789779e-10,\n",
       "       1.06653187e-09, 1.41461177e-09, 1.87590529e-09, 2.48730685e-09,\n",
       "       3.29775459e-09, 4.37210355e-09, 5.79631353e-09, 7.68437560e-09,\n",
       "       1.01873873e-08, 1.35056105e-08, 1.79046145e-08, 2.37364230e-08,\n",
       "       3.14677295e-08, 4.17172437e-08, 5.53052800e-08, 7.33193481e-08,\n",
       "       9.72012002e-08, 1.28862661e-07, 1.70838575e-07, 2.26490465e-07,\n",
       "       3.00276804e-07, 3.98112390e-07, 5.27846919e-07, 6.99903760e-07,\n",
       "       9.28135699e-07, 1.23097688e-06, 1.63300642e-06, 2.16709358e-06,\n",
       "       2.87738928e-06, 3.82358998e-06, 5.08719372e-06, 6.78101431e-06,\n",
       "       9.06426495e-06, 1.21675532e-05, 1.64361331e-05, 2.24077133e-05,\n",
       "       3.09570321e-05, 4.35713404e-05])"
      ]
     },
     "execution_count": 12,
     "metadata": {},
     "output_type": "execute_result"
    }
   ],
   "source": [
    "hh_param.get_damping()"
   ]
  },
  {
   "cell_type": "code",
   "execution_count": 13,
   "metadata": {},
   "outputs": [
    {
     "data": {
      "image/png": "[encoded data removed]",
      "text/plain": [
       "<Figure size 600x300 with 2 Axes>"
      ]
     },
     "metadata": {},
     "output_type": "display_data"
    }
   ],
   "source": [
    "# the parameter values are arbitrary, so the curves don't make sense\n",
    "hh_param.plot_curves();"
   ]
  },
  {
   "cell_type": "markdown",
   "metadata": {},
   "source": [
    "## 3. Demonstration of `MKZ_Param` objects"
   ]
  },
  {
   "cell_type": "markdown",
   "metadata": {},
   "source": [
    "The behaviors of `MKZ_Param` are very similar to `HH_Param`, so we won't discuss them in details here."
   ]
  },
  {
   "cell_type": "code",
   "execution_count": 14,
   "metadata": {},
   "outputs": [],
   "source": [
    "mkz_param = MKZ_Param(dict(gamma_ref=3, beta=4, s=5, Gmax=6))"
   ]
  },
  {
   "cell_type": "code",
   "execution_count": 15,
   "metadata": {},
   "outputs": [
    {
     "name": "stdout",
     "output_type": "stream",
     "text": [
      "{\n",
      "  gamma_ref: 3,\n",
      "  beta: 4,\n",
      "  s: 5,\n",
      "  Gmax: 6\n",
      "}\n"
     ]
    }
   ],
   "source": [
    "print(mkz_param)"
   ]
  },
  {
   "cell_type": "code",
   "execution_count": 16,
   "metadata": {},
   "outputs": [
    {
     "data": {
      "image/png": "[encoded data removed]",
      "text/plain": [
       "<Figure size 600x300 with 2 Axes>"
      ]
     },
     "metadata": {},
     "output_type": "display_data"
    }
   ],
   "source": [
    "mkz_param.plot_curves();"
   ]
  },
  {
   "cell_type": "markdown",
   "metadata": {},
   "source": [
    "## 4. Demonstration of `HH_Param_Multi_Layer` objects"
   ]
  },
  {
   "cell_type": "markdown",
   "metadata": {},
   "source": [
    "This is a compound class that contains multiple layers of `HH_Param` objects."
   ]
  },
  {
   "cell_type": "markdown",
   "metadata": {},
   "source": [
    "### 4.1. Initialize with a list"
   ]
  },
  {
   "cell_type": "markdown",
   "metadata": {},
   "source": [
    "You can initialize it with a list of `dict` or a list of `HH_Param`:"
   ]
  },
  {
   "cell_type": "code",
   "execution_count": 17,
   "metadata": {},
   "outputs": [],
   "source": [
    "list_1 = [\n",
    "    dict(gamma_t=1, a=2, gamma_ref=3, beta=4, s=5, Gmax=6, mu=7, Tmax=8, d=9),\n",
    "    dict(gamma_t=1, a=2, gamma_ref=3, beta=4, s=5, Gmax=6, mu=7, Tmax=8, d=9),\n",
    "    dict(gamma_t=1, a=2, gamma_ref=3, beta=4, s=5, Gmax=6, mu=7, Tmax=8, d=9),\n",
    "]\n",
    "hh_params = HH_Param_Multi_Layer(list_1)"
   ]
  },
  {
   "cell_type": "code",
   "execution_count": 18,
   "metadata": {},
   "outputs": [
    {
     "data": {
      "text/plain": [
       "3"
      ]
     },
     "execution_count": 18,
     "metadata": {},
     "output_type": "execute_result"
    }
   ],
   "source": [
    "hh_params.n_layer"
   ]
  },
  {
   "cell_type": "code",
   "execution_count": 19,
   "metadata": {},
   "outputs": [
    {
     "data": {
      "text/plain": [
       "[{\n",
       "   gamma_t: 1,\n",
       "   a: 2,\n",
       "   gamma_ref: 3,\n",
       "   beta: 4,\n",
       "   s: 5,\n",
       "   Gmax: 6,\n",
       "   mu: 7,\n",
       "   Tmax: 8,\n",
       "   d: 9\n",
       " },\n",
       " {\n",
       "   gamma_t: 1,\n",
       "   a: 2,\n",
       "   gamma_ref: 3,\n",
       "   beta: 4,\n",
       "   s: 5,\n",
       "   Gmax: 6,\n",
       "   mu: 7,\n",
       "   Tmax: 8,\n",
       "   d: 9\n",
       " },\n",
       " {\n",
       "   gamma_t: 1,\n",
       "   a: 2,\n",
       "   gamma_ref: 3,\n",
       "   beta: 4,\n",
       "   s: 5,\n",
       "   Gmax: 6,\n",
       "   mu: 7,\n",
       "   Tmax: 8,\n",
       "   d: 9\n",
       " }]"
      ]
     },
     "execution_count": 19,
     "metadata": {},
     "output_type": "execute_result"
    }
   ],
   "source": [
    "hh_params.param_list"
   ]
  },
  {
   "cell_type": "markdown",
   "metadata": {},
   "source": [
    "### 4.2. Initialize from a text file"
   ]
  },
  {
   "cell_type": "markdown",
   "metadata": {},
   "source": [
    "The text file needs contain at least one column and exactly nine rows, each for a HH parameter. The meanings of the rows should be in this order: `gamma_t, a, gamma_ref, beta, s, Gmax, mu, Tmax, d`."
   ]
  },
  {
   "cell_type": "code",
   "execution_count": 20,
   "metadata": {},
   "outputs": [],
   "source": [
    "hh_params = HH_Param_Multi_Layer('../tests/files/HH_G_FKSH14.txt')"
   ]
  },
  {
   "cell_type": "code",
   "execution_count": 21,
   "metadata": {},
   "outputs": [
    {
     "data": {
      "text/plain": [
       "5"
      ]
     },
     "execution_count": 21,
     "metadata": {},
     "output_type": "execute_result"
    }
   ],
   "source": [
    "hh_params.n_layer"
   ]
  },
  {
   "cell_type": "code",
   "execution_count": 22,
   "metadata": {},
   "outputs": [
    {
     "data": {
      "image/png": "[encoded data removed]",
      "text/plain": [
       "<Figure size 600x300 with 2 Axes>"
      ]
     },
     "metadata": {},
     "output_type": "display_data"
    }
   ],
   "source": [
    "# The damping curve doesn't make sense b/c these parameters are for G/Gmax only\n",
    "hh_params[2].plot_curves();"
   ]
  },
  {
   "cell_type": "markdown",
   "metadata": {},
   "source": [
    "### 4.3. Construct a \"curve matrix\" from the object"
   ]
  },
  {
   "cell_type": "code",
   "execution_count": 23,
   "metadata": {},
   "outputs": [
    {
     "data": {
      "text/plain": [
       "array([[0.01  , 0.7411, 0.01  , 1.    , 0.01  , 0.7989, 0.01  , 1.    ],\n",
       "       [0.0115, 0.7155, 0.0115, 1.    , 0.0115, 0.7773, 0.0115, 1.    ],\n",
       "       [0.0133, 0.6884, 0.0133, 1.    , 0.0133, 0.7541, 0.0133, 1.    ],\n",
       "       [0.0153, 0.6599, 0.0153, 1.    , 0.0153, 0.7293, 0.0153, 1.    ],\n",
       "       [0.0176, 0.6303, 0.0176, 1.    , 0.0176, 0.703 , 0.0176, 1.    ],\n",
       "       [0.0202, 0.5996, 0.0202, 1.    , 0.0202, 0.6752, 0.0202, 1.    ],\n",
       "       [0.0233, 0.5682, 0.0233, 1.    , 0.0233, 0.6462, 0.0233, 1.    ],\n",
       "       [0.0268, 0.5361, 0.0268, 1.    , 0.0268, 0.616 , 0.0268, 1.    ],\n",
       "       [0.0309, 0.5038, 0.0309, 1.    , 0.0309, 0.585 , 0.0309, 1.    ],\n",
       "       [0.0356, 0.4715, 0.0356, 1.    , 0.0356, 0.5532, 0.0356, 1.    ]])"
      ]
     },
     "execution_count": 23,
     "metadata": {},
     "output_type": "execute_result"
    }
   ],
   "source": [
    "ggmax_curves, damping_curves = hh_params.construct_curves()\n",
    "np.set_printoptions(precision=4, suppress=True, linewidth=100)\n",
    "ggmax_curves.get_curve_matrix()[:10, :8]"
   ]
  },
  {
   "cell_type": "markdown",
   "metadata": {},
   "source": [
    "### 4.4. Serialize to a 2D array"
   ]
  },
  {
   "cell_type": "markdown",
   "metadata": {},
   "source": [
    "Each column represents a soil layer; each row represent a parameter (in this order: `gamma_t`, `a`, `gamma_ref`, `beta`, `s`, `Gmax`, `mu`, `Tmax`, `d`)."
   ]
  },
  {
   "cell_type": "code",
   "execution_count": 24,
   "metadata": {},
   "outputs": [
    {
     "data": {
      "text/plain": [
       "array([[7.6244e-04, 1.3975e-03, 1.1031e-04, 1.0412e-04, 1.0717e-04],\n",
       "       [1.0000e+02, 1.0000e+02, 1.0000e+02, 1.0000e+02, 1.0000e+02],\n",
       "       [3.1406e-04, 4.4874e-04, 6.0826e-04, 8.3719e-04, 9.4077e-04],\n",
       "       [1.0000e+00, 1.0000e+00, 1.0000e+00, 1.0000e+00, 1.0000e+00],\n",
       "       [9.1900e-01, 9.1900e-01, 9.1900e-01, 9.1900e-01, 9.1900e-01],\n",
       "       [2.6926e+07, 6.7001e+07, 1.4638e+08, 2.4131e+09, 3.3748e+09],\n",
       "       [2.0625e-01, 2.1133e-01, 2.5788e-01, 1.0000e+00, 1.0000e+00],\n",
       "       [2.7822e+04, 6.5842e+04, 1.4871e+05, 8.1562e+05, 1.1326e+06],\n",
       "       [9.0879e-01, 8.9794e-01, 8.6176e-01, 9.8116e-01, 9.7754e-01]])"
      ]
     },
     "execution_count": 24,
     "metadata": {},
     "output_type": "execute_result"
    }
   ],
   "source": [
    "hh_params.serialize_to_2D_array()"
   ]
  },
  {
   "cell_type": "markdown",
   "metadata": {},
   "source": [
    "You can save this 2D array as a text file via the `save_txt()` method (see the documentation for details)."
   ]
  },
  {
   "cell_type": "markdown",
   "metadata": {},
   "source": [
    "The behaviors of `MKZ_Param_Multi_Layer` is identical to `HH_Param_Multi_Layer`, so we won't go into the details here."
   ]
  }
 ],
 "metadata": {
  "kernelspec": {
   "display_name": "PySeismoSoil",
   "language": "python",
   "name": "python3"
  },
  "language_info": {
   "codemirror_mode": {
    "name": "ipython",
    "version": 3
   },
   "file_extension": ".py",
   "mimetype": "text/x-python",
   "name": "python",
   "nbconvert_exporter": "python",
   "pygments_lexer": "ipython3",
   "version": "3.13.7"
  }
 },
 "nbformat": 4,
 "nbformat_minor": 4
}
